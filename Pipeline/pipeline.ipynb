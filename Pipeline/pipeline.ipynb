{
 "cells": [
  {
   "cell_type": "code",
   "id": "initial_id",
   "metadata": {
    "collapsed": true,
    "ExecuteTime": {
     "end_time": "2024-09-30T17:11:52.070657Z",
     "start_time": "2024-09-30T17:11:47.210612Z"
    }
   },
   "source": [
    "# Imports\n",
    "from models import *\n",
    "from data import *\n",
    "from sklearn.metrics import precision_score, recall_score, f1_score, accuracy_score"
   ],
   "outputs": [],
   "execution_count": 2
  },
  {
   "cell_type": "code",
   "source": [
    "# Get the dataset\n",
    "dataset = Dataset.get_dataset('multi_eurlex')"
   ],
   "metadata": {
    "collapsed": false,
    "ExecuteTime": {
     "end_time": "2024-09-30T17:11:55.874684Z",
     "start_time": "2024-09-30T17:11:55.869382Z"
    }
   },
   "id": "10785bb87745dd4a",
   "outputs": [],
   "execution_count": 3
  },
  {
   "cell_type": "code",
   "source": [
    "# Initialize the model\n",
    "data, label_options = dataset.get_data('en')\n",
    "model = Model.get_model('bart', label_options, multi_class=True)"
   ],
   "metadata": {
    "collapsed": false,
    "ExecuteTime": {
     "end_time": "2024-09-30T17:12:55.422034Z",
     "start_time": "2024-09-30T17:11:56.710420Z"
    }
   },
   "id": "5ac4b4276084a056",
   "outputs": [
    {
     "data": {
      "text/plain": [
       "Generating train split:   0%|          | 0/55000 [00:00<?, ? examples/s]"
      ],
      "application/vnd.jupyter.widget-view+json": {
       "version_major": 2,
       "version_minor": 0,
       "model_id": "69264dc2ebf54f349922fd4bf5389e97"
      }
     },
     "metadata": {},
     "output_type": "display_data"
    },
    {
     "name": "stderr",
     "output_type": "stream",
     "text": [
      "\n",
      "KeyboardInterrupt\n",
      "\n"
     ]
    }
   ],
   "execution_count": 4
  },
  {
   "cell_type": "code",
   "execution_count": null,
   "outputs": [
    {
     "name": "stdout",
     "output_type": "stream",
     "text": [
      "<class 'str'>\n",
      "<class 'str'>\n",
      "<class 'str'>\n"
     ]
    }
   ],
   "source": [
    "# Get the predicted labels\n",
    "predicted_labels = model.predict(data)\n",
    "true_labels = model.get_true_labels(data)"
   ],
   "metadata": {
    "collapsed": false,
    "is_executing": true,
    "ExecuteTime": {
     "start_time": "2024-09-30T17:06:32.381737Z"
    }
   },
   "id": "aa54fd772f68d853"
  },
  {
   "cell_type": "code",
   "execution_count": null,
   "outputs": [],
   "source": [
    "# Evaluate the performance\n",
    "# Flatten the lists of lists into single lists\n",
    "flat_predicted_labels = [label for sublist in predicted_labels for label in sublist]\n",
    "flat_true_labels = [label for sublist in true_labels for label in sublist]\n",
    "\n",
    "# Accuracy\n",
    "accuracy = accuracy_score(flat_true_labels, flat_predicted_labels)\n",
    "\n",
    "# Precision, Recall, F1 Score (for multiclass classification, use 'macro', 'micro', or 'weighted' averaging)\n",
    "precision = precision_score(flat_true_labels, flat_predicted_labels, average='macro')\n",
    "recall = recall_score(flat_true_labels, flat_predicted_labels, average='macro')\n",
    "f1 = f1_score(flat_true_labels, flat_predicted_labels, average='macro')\n",
    "\n",
    "# Print the results\n",
    "print(f\"Accuracy: {accuracy}\")\n",
    "print(f\"Precision (Macro): {precision}\")\n",
    "print(f\"Recall (Macro): {recall}\")\n",
    "print(f\"F1 Score (Macro): {f1}\")"
   ],
   "metadata": {
    "collapsed": false
   },
   "id": "9efd09df0aec8eca"
  }
 ],
 "metadata": {
  "kernelspec": {
   "display_name": "Python 3",
   "language": "python",
   "name": "python3"
  },
  "language_info": {
   "codemirror_mode": {
    "name": "ipython",
    "version": 2
   },
   "file_extension": ".py",
   "mimetype": "text/x-python",
   "name": "python",
   "nbconvert_exporter": "python",
   "pygments_lexer": "ipython2",
   "version": "2.7.6"
  }
 },
 "nbformat": 4,
 "nbformat_minor": 5
}
