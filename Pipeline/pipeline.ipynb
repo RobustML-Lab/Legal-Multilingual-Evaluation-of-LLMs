{
 "cells": [
  {
   "cell_type": "code",
   "execution_count": 1,
   "id": "initial_id",
   "metadata": {
    "collapsed": true,
    "ExecuteTime": {
     "end_time": "2024-09-30T17:06:28.550771600Z",
     "start_time": "2024-09-30T17:06:23.690281200Z"
    }
   },
   "outputs": [],
   "source": [
    "# Imports\n",
    "from models import *\n",
    "from data import *\n",
    "from sklearn.metrics import precision_score, recall_score, f1_score, accuracy_score"
   ]
  },
  {
   "cell_type": "code",
   "execution_count": 2,
   "outputs": [],
   "source": [
    "# Get the dataset\n",
    "dataset = Dataset.get_dataset('multi_eurlex')"
   ],
   "metadata": {
    "collapsed": false,
    "ExecuteTime": {
     "end_time": "2024-09-30T17:06:28.558769200Z",
     "start_time": "2024-09-30T17:06:28.552767Z"
    }
   },
   "id": "10785bb87745dd4a"
  },
  {
   "cell_type": "code",
   "execution_count": 3,
   "outputs": [
    {
     "name": "stderr",
     "output_type": "stream",
     "text": [
      "C:\\Users\\andre\\AppData\\Local\\Programs\\Python\\Python312\\Lib\\site-packages\\transformers\\tokenization_utils_base.py:1601: FutureWarning: `clean_up_tokenization_spaces` was not set. It will be set to `True` by default. This behavior will be depracted in transformers v4.45, and will be then set to `False` by default. For more details check this issue: https://github.com/huggingface/transformers/issues/31884\n",
      "  warnings.warn(\n"
     ]
    }
   ],
   "source": [
    "# Initialize the model\n",
    "data, label_options = dataset.get_data('en')\n",
    "model = Model.get_model('bart', label_options, multi_class=True)"
   ],
   "metadata": {
    "collapsed": false,
    "ExecuteTime": {
     "end_time": "2024-09-30T17:06:32.380739600Z",
     "start_time": "2024-09-30T17:06:28.557772900Z"
    }
   },
   "id": "5ac4b4276084a056"
  },
  {
   "cell_type": "code",
   "execution_count": null,
   "outputs": [
    {
     "name": "stdout",
     "output_type": "stream",
     "text": [
      "<class 'str'>\n",
      "<class 'str'>\n",
      "<class 'str'>\n"
     ]
    }
   ],
   "source": [
    "# Get the predicted labels\n",
    "predicted_labels = model.predict(data)\n",
    "true_labels = model.get_true_labels(data)"
   ],
   "metadata": {
    "collapsed": false,
    "is_executing": true,
    "ExecuteTime": {
     "start_time": "2024-09-30T17:06:32.381737Z"
    }
   },
   "id": "aa54fd772f68d853"
  },
  {
   "cell_type": "code",
   "execution_count": null,
   "outputs": [],
   "source": [
    "# Evaluate the performance\n",
    "# Flatten the lists of lists into single lists\n",
    "flat_predicted_labels = [label for sublist in predicted_labels for label in sublist]\n",
    "flat_true_labels = [label for sublist in true_labels for label in sublist]\n",
    "\n",
    "# Accuracy\n",
    "accuracy = accuracy_score(flat_true_labels, flat_predicted_labels)\n",
    "\n",
    "# Precision, Recall, F1 Score (for multiclass classification, use 'macro', 'micro', or 'weighted' averaging)\n",
    "precision = precision_score(flat_true_labels, flat_predicted_labels, average='macro')\n",
    "recall = recall_score(flat_true_labels, flat_predicted_labels, average='macro')\n",
    "f1 = f1_score(flat_true_labels, flat_predicted_labels, average='macro')\n",
    "\n",
    "# Print the results\n",
    "print(f\"Accuracy: {accuracy}\")\n",
    "print(f\"Precision (Macro): {precision}\")\n",
    "print(f\"Recall (Macro): {recall}\")\n",
    "print(f\"F1 Score (Macro): {f1}\")"
   ],
   "metadata": {
    "collapsed": false
   },
   "id": "9efd09df0aec8eca"
  }
 ],
 "metadata": {
  "kernelspec": {
   "display_name": "Python 3",
   "language": "python",
   "name": "python3"
  },
  "language_info": {
   "codemirror_mode": {
    "name": "ipython",
    "version": 2
   },
   "file_extension": ".py",
   "mimetype": "text/x-python",
   "name": "python",
   "nbconvert_exporter": "python",
   "pygments_lexer": "ipython2",
   "version": "2.7.6"
  }
 },
 "nbformat": 4,
 "nbformat_minor": 5
}
