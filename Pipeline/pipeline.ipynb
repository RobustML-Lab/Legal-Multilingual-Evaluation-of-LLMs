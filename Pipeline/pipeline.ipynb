{
 "cells": [
  {
   "cell_type": "code",
   "execution_count": null,
   "id": "initial_id",
   "metadata": {
    "collapsed": true
   },
   "outputs": [],
   "source": [
    "# Imports\n",
    "from models import *\n",
    "from data import *\n",
    "from sklearn.metrics import accuracy_score, precision_recall_fscore_support"
   ]
  },
  {
   "cell_type": "code",
   "execution_count": null,
   "outputs": [],
   "source": [
    "# Get the dataset\n",
    "dataset, label_options = Dataset.get_dataset('multi_eurlex')"
   ],
   "metadata": {
    "collapsed": false
   },
   "id": "10785bb87745dd4a"
  },
  {
   "cell_type": "code",
   "execution_count": null,
   "outputs": [],
   "source": [
    "# Initialize the model\n",
    "model = Model.get_model('bart', label_options, multi_class=True)"
   ],
   "metadata": {
    "collapsed": false
   },
   "id": "5ac4b4276084a056"
  },
  {
   "cell_type": "code",
   "execution_count": null,
   "outputs": [],
   "source": [
    "# Get the predicted labels\n",
    "predicted_labels = model.predict(dataset)\n",
    "true_labels = [entry['labels'] for entry in dataset]"
   ],
   "metadata": {
    "collapsed": false
   },
   "id": "aa54fd772f68d853"
  },
  {
   "cell_type": "code",
   "execution_count": null,
   "outputs": [],
   "source": [
    "from sklearn.metrics import precision_score, recall_score, f1_score\n",
    "\n",
    "# Evaluate the performance\n",
    "# Flatten the lists of lists into single lists\n",
    "flat_predicted_labels = [label for sublist in predicted_labels for label in sublist]\n",
    "flat_true_labels = [label for sublist in true_labels for label in sublist]\n",
    "\n",
    "# Accuracy\n",
    "accuracy = accuracy_score(flat_true_labels, flat_predicted_labels)\n",
    "\n",
    "# Precision, Recall, F1 Score (for multiclass classification, use 'macro', 'micro', or 'weighted' averaging)\n",
    "precision = precision_score(flat_true_labels, flat_predicted_labels, average='macro')\n",
    "recall = recall_score(flat_true_labels, flat_predicted_labels, average='macro')\n",
    "f1 = f1_score(flat_true_labels, flat_predicted_labels, average='macro')\n",
    "\n",
    "# Print the results\n",
    "print(f\"Accuracy: {accuracy}\")\n",
    "print(f\"Precision (Macro): {precision}\")\n",
    "print(f\"Recall (Macro): {recall}\")\n",
    "print(f\"F1 Score (Macro): {f1}\")"
   ],
   "metadata": {
    "collapsed": false
   },
   "id": "9efd09df0aec8eca"
  }
 ],
 "metadata": {
  "kernelspec": {
   "display_name": "Python 3",
   "language": "python",
   "name": "python3"
  },
  "language_info": {
   "codemirror_mode": {
    "name": "ipython",
    "version": 2
   },
   "file_extension": ".py",
   "mimetype": "text/x-python",
   "name": "python",
   "nbconvert_exporter": "python",
   "pygments_lexer": "ipython2",
   "version": "2.7.6"
  }
 },
 "nbformat": 4,
 "nbformat_minor": 5
}
