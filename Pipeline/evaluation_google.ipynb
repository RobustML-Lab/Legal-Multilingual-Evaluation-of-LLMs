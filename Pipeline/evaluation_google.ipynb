{
 "cells": [
  {
   "cell_type": "code",
   "execution_count": 1,
   "id": "e07eebabd86f5529",
   "metadata": {
    "ExecuteTime": {
     "end_time": "2024-09-20T10:31:39.328546Z",
     "start_time": "2024-09-20T10:31:36.526208Z"
    }
   },
   "outputs": [],
   "source": [
    "import os\n",
    "import time\n",
    "\n",
    "from datasets import load_dataset\n",
    "from sklearn.metrics import precision_recall_fscore_support\n",
    "import google.generativeai as ggai\n",
    "from sklearn.preprocessing import MultiLabelBinarizer\n",
    "import numpy as np\n"
   ]
  },
  {
   "cell_type": "code",
   "execution_count": 2,
   "id": "4812dd6bac3dddd1",
   "metadata": {
    "ExecuteTime": {
     "end_time": "2024-09-20T10:31:43.171451Z",
     "start_time": "2024-09-20T10:31:41.328901Z"
    }
   },
   "outputs": [],
   "source": [
    "# Load the Multi-EURLEX dataset\n",
    "dataset = load_dataset('multi_eurlex', 'all_languages', split='test')\n",
    "\n",
    "# Define label options (21 categories)\n",
    "label_options = [\n",
    "    \"POLITICS\", \"INTERNATIONAL RELATIONS\", \"EUROPEAN UNION\", \"LAW\", \"ECONOMICS\",\n",
    "    \"TRADE\", \"FINANCE\", \"SOCIAL QUESTIONS\", \"EDUCATION AND COMMUNICATIONS\", \"SCIENCE\",\n",
    "    \"BUSINESS AND COMPETITION\", \"EMPLOYMENT AND WORKING CONDITIONS\", \"TRANSPORT\",\n",
    "    \"ENVIRONMENT\", \"AGRICULTURE, FORESTRY AND FISHERIES\", \"AGRI-FOODSTUFFS\",\n",
    "    \"PRODUCTION, TECHNOLOGY AND RESEARCH\", \"ENERGY\", \"INDUSTRY\", \"GEOGRAPHY\",\n",
    "    \"INTERNATIONAL ORGANISATIONS\"\n",
    "]\n",
    "\n",
    "# Preprocess the dataset and map true labels to category numbers\n",
    "def preprocess_dataset(dataset, label_options):\n",
    "    preprocessed_data = []\n",
    "    for item in dataset:\n",
    "        text = item['text']['en']  # Extract English text\n",
    "        labels = item['labels']    # True label numbers\n",
    "        preprocessed_data.append({\"text\": text, \"labels\": labels})\n",
    "    return preprocessed_data\n",
    "    # return preprocessed_data[:15]"
   ]
  },
  {
   "cell_type": "code",
   "execution_count": 3,
   "id": "1a324f8230b4a05f",
   "metadata": {
    "ExecuteTime": {
     "end_time": "2024-09-20T10:31:43.179884Z",
     "start_time": "2024-09-20T10:31:43.172456Z"
    }
   },
   "outputs": [
    {
     "name": "stdout",
     "output_type": "stream",
     "text": [
      "None\n"
     ]
    }
   ],
   "source": [
    "ggai.configure(api_key=os.getenv('GOOGLE_API_KEY'))\n",
    "model = ggai.GenerativeModel('gemini-1.5-flash')\n",
    "\n",
    "def classify_text_with_gemini(text, label_options):\n",
    "    prompt = f\"ONLY GIVE THE CATEGORIES IN YOUR ANSWER.Classify the following text into one or more of these categories: {', '.join(label_options)}. Text: {text}.\"\n",
    "\n",
    "    # Generate the text using the model\n",
    "    response = model.generate_content(prompt)\n",
    "\n",
    "    if not response:\n",
    "        print(\"Error: No response from the API.\")\n",
    "        return \"\"\n",
    "\n",
    "    return response.text"
   ]
  },
  {
   "cell_type": "code",
   "execution_count": 4,
   "id": "e2a56275ffc18dd2",
   "metadata": {
    "ExecuteTime": {
     "end_time": "2024-09-20T10:24:37.377468Z",
     "start_time": "2024-09-20T10:24:37.366531Z"
    }
   },
   "outputs": [],
   "source": [
    "# Extract relevant labels from Gemini's output\n",
    "def extract_labels_from_generated_text(generated_text, label_options):\n",
    "    relevant_labels = []\n",
    "    for label in label_options:\n",
    "        if label.lower() in generated_text.lower():\n",
    "            relevant_labels.append(label)\n",
    "    return relevant_labels\n",
    "\n",
    "# Map label names back to indices\n",
    "def map_labels_to_indices(label_names, label_options):\n",
    "    label_indices = [label_options.index(label) for label in label_names if label in label_options]\n",
    "    return label_indices\n",
    "\n",
    "# Evaluate the Gemini model on the dataset\n",
    "def evaluate_gemini_on_dataset(dataset, label_options):\n",
    "    all_true_labels = []\n",
    "    all_predicted_labels = []\n",
    "    count = 0  # Track the number of requests\n",
    "\n",
    "    print(len(dataset))\n",
    "    for entry in dataset:\n",
    "        text = entry['text']\n",
    "        true_labels = entry['labels']\n",
    "\n",
    "        try:\n",
    "            # Rate limiting: Ensure no more than 15 requests per minute\n",
    "            if count >= 15:\n",
    "                print(\"Reached request limit (15 per minute). Sleeping for 60 seconds...\")\n",
    "                time.sleep(60)  # Sleep for 60 seconds to comply with rate limits\n",
    "                count = 0  # Reset the request count after sleeping\n",
    "\n",
    "            # Get Gemini's generated labels\n",
    "            generated_text = classify_text_with_gemini(text, label_options)\n",
    "            predicted_label_names = extract_labels_from_generated_text(generated_text, label_options)\n",
    "            predicted_labels = map_labels_to_indices(predicted_label_names, label_options)\n",
    "\n",
    "            # Store true and predicted labels for comparison\n",
    "            all_true_labels.append(true_labels)\n",
    "            all_predicted_labels.append(predicted_labels)\n",
    "\n",
    "            # Update request count\n",
    "            count += 1\n",
    "\n",
    "        except Exception as e:\n",
    "            # Handle any request-related exceptions, like rate-limiting or network errors\n",
    "            print(f\"Error occurred: {e}. Retrying after 60 seconds...\")\n",
    "            time.sleep(60)  # Sleep for 60 seconds before retrying\n",
    "            count = 0  # Reset the request count\n",
    "\n",
    "    return all_true_labels, all_predicted_labels\n"
   ]
  },
  {
   "cell_type": "code",
   "execution_count": 5,
   "id": "7ba205220ce68e5b",
   "metadata": {
    "ExecuteTime": {
     "end_time": "2024-09-20T10:25:46.660483Z",
     "start_time": "2024-09-20T10:24:37.380478Z"
    }
   },
   "outputs": [
    {
     "name": "stdout",
     "output_type": "stream",
     "text": [
      "15\n",
      "Error occurred: \n",
      "  No API_KEY or ADC found. Please either:\n",
      "    - Set the `GOOGLE_API_KEY` environment variable.\n",
      "    - Manually pass the key with `genai.configure(api_key=my_api_key)`.\n",
      "    - Or set up Application Default Credentials, see https://ai.google.dev/gemini-api/docs/oauth for more information.. Retrying after 60 seconds...\n"
     ]
    },
    {
     "ename": "KeyboardInterrupt",
     "evalue": "",
     "output_type": "error",
     "traceback": [
      "\u001B[1;31m---------------------------------------------------------------------------\u001B[0m",
      "\u001B[1;31mDefaultCredentialsError\u001B[0m                   Traceback (most recent call last)",
      "Cell \u001B[1;32mIn[4], line 33\u001B[0m, in \u001B[0;36mevaluate_gemini_on_dataset\u001B[1;34m(dataset, label_options)\u001B[0m\n\u001B[0;32m     32\u001B[0m \u001B[38;5;66;03m# Get Gemini's generated labels\u001B[39;00m\n\u001B[1;32m---> 33\u001B[0m generated_text \u001B[38;5;241m=\u001B[39m \u001B[43mclassify_text_with_gemini\u001B[49m\u001B[43m(\u001B[49m\u001B[43mtext\u001B[49m\u001B[43m,\u001B[49m\u001B[43m \u001B[49m\u001B[43mlabel_options\u001B[49m\u001B[43m)\u001B[49m\n\u001B[0;32m     34\u001B[0m predicted_label_names \u001B[38;5;241m=\u001B[39m extract_labels_from_generated_text(generated_text, label_options)\n",
      "Cell \u001B[1;32mIn[3], line 8\u001B[0m, in \u001B[0;36mclassify_text_with_gemini\u001B[1;34m(text, label_options)\u001B[0m\n\u001B[0;32m      7\u001B[0m \u001B[38;5;66;03m# Generate the text using the model\u001B[39;00m\n\u001B[1;32m----> 8\u001B[0m response \u001B[38;5;241m=\u001B[39m \u001B[43mmodel\u001B[49m\u001B[38;5;241;43m.\u001B[39;49m\u001B[43mgenerate_content\u001B[49m\u001B[43m(\u001B[49m\u001B[43mprompt\u001B[49m\u001B[43m)\u001B[49m\n\u001B[0;32m     10\u001B[0m \u001B[38;5;28;01mif\u001B[39;00m \u001B[38;5;129;01mnot\u001B[39;00m response:\n",
      "File \u001B[1;32m~\\Documents\\GitHub\\Multilingual-Evaluation-of-Generative-AI\\.venv\\Lib\\site-packages\\google\\generativeai\\generative_models.py:317\u001B[0m, in \u001B[0;36mGenerativeModel.generate_content\u001B[1;34m(self, contents, generation_config, safety_settings, stream, tools, tool_config, request_options)\u001B[0m\n\u001B[0;32m    316\u001B[0m \u001B[38;5;28;01mif\u001B[39;00m \u001B[38;5;28mself\u001B[39m\u001B[38;5;241m.\u001B[39m_client \u001B[38;5;129;01mis\u001B[39;00m \u001B[38;5;28;01mNone\u001B[39;00m:\n\u001B[1;32m--> 317\u001B[0m     \u001B[38;5;28mself\u001B[39m\u001B[38;5;241m.\u001B[39m_client \u001B[38;5;241m=\u001B[39m \u001B[43mclient\u001B[49m\u001B[38;5;241;43m.\u001B[39;49m\u001B[43mget_default_generative_client\u001B[49m\u001B[43m(\u001B[49m\u001B[43m)\u001B[49m\n\u001B[0;32m    319\u001B[0m \u001B[38;5;28;01mif\u001B[39;00m request_options \u001B[38;5;129;01mis\u001B[39;00m \u001B[38;5;28;01mNone\u001B[39;00m:\n",
      "File \u001B[1;32m~\\Documents\\GitHub\\Multilingual-Evaluation-of-Generative-AI\\.venv\\Lib\\site-packages\\google\\generativeai\\client.py:351\u001B[0m, in \u001B[0;36mget_default_generative_client\u001B[1;34m()\u001B[0m\n\u001B[0;32m    350\u001B[0m \u001B[38;5;28;01mdef\u001B[39;00m \u001B[38;5;21mget_default_generative_client\u001B[39m() \u001B[38;5;241m-\u001B[39m\u001B[38;5;241m>\u001B[39m glm\u001B[38;5;241m.\u001B[39mGenerativeServiceClient:\n\u001B[1;32m--> 351\u001B[0m     \u001B[38;5;28;01mreturn\u001B[39;00m \u001B[43m_client_manager\u001B[49m\u001B[38;5;241;43m.\u001B[39;49m\u001B[43mget_default_client\u001B[49m\u001B[43m(\u001B[49m\u001B[38;5;124;43m\"\u001B[39;49m\u001B[38;5;124;43mgenerative\u001B[39;49m\u001B[38;5;124;43m\"\u001B[39;49m\u001B[43m)\u001B[49m\n",
      "File \u001B[1;32m~\\Documents\\GitHub\\Multilingual-Evaluation-of-Generative-AI\\.venv\\Lib\\site-packages\\google\\generativeai\\client.py:280\u001B[0m, in \u001B[0;36m_ClientManager.get_default_client\u001B[1;34m(self, name)\u001B[0m\n\u001B[0;32m    279\u001B[0m \u001B[38;5;28;01mif\u001B[39;00m client \u001B[38;5;129;01mis\u001B[39;00m \u001B[38;5;28;01mNone\u001B[39;00m:\n\u001B[1;32m--> 280\u001B[0m     client \u001B[38;5;241m=\u001B[39m \u001B[38;5;28;43mself\u001B[39;49m\u001B[38;5;241;43m.\u001B[39;49m\u001B[43mmake_client\u001B[49m\u001B[43m(\u001B[49m\u001B[43mname\u001B[49m\u001B[43m)\u001B[49m\n\u001B[0;32m    281\u001B[0m     \u001B[38;5;28mself\u001B[39m\u001B[38;5;241m.\u001B[39mclients[name] \u001B[38;5;241m=\u001B[39m client\n",
      "File \u001B[1;32m~\\Documents\\GitHub\\Multilingual-Evaluation-of-Generative-AI\\.venv\\Lib\\site-packages\\google\\generativeai\\client.py:240\u001B[0m, in \u001B[0;36m_ClientManager.make_client\u001B[1;34m(self, name)\u001B[0m\n\u001B[0;32m    234\u001B[0m     e\u001B[38;5;241m.\u001B[39margs \u001B[38;5;241m=\u001B[39m (\n\u001B[0;32m    235\u001B[0m         \u001B[38;5;124m\"\u001B[39m\u001B[38;5;130;01m\\n\u001B[39;00m\u001B[38;5;124m  No API_KEY or ADC found. Please either:\u001B[39m\u001B[38;5;130;01m\\n\u001B[39;00m\u001B[38;5;124m\"\u001B[39m\n\u001B[0;32m    236\u001B[0m         \u001B[38;5;124m\"\u001B[39m\u001B[38;5;124m    - Set the `GOOGLE_API_KEY` environment variable.\u001B[39m\u001B[38;5;130;01m\\n\u001B[39;00m\u001B[38;5;124m\"\u001B[39m\n\u001B[0;32m    237\u001B[0m         \u001B[38;5;124m\"\u001B[39m\u001B[38;5;124m    - Manually pass the key with `genai.configure(api_key=my_api_key)`.\u001B[39m\u001B[38;5;130;01m\\n\u001B[39;00m\u001B[38;5;124m\"\u001B[39m\n\u001B[0;32m    238\u001B[0m         \u001B[38;5;124m\"\u001B[39m\u001B[38;5;124m    - Or set up Application Default Credentials, see https://ai.google.dev/gemini-api/docs/oauth for more information.\u001B[39m\u001B[38;5;124m\"\u001B[39m,\n\u001B[0;32m    239\u001B[0m     )\n\u001B[1;32m--> 240\u001B[0m     \u001B[38;5;28;01mraise\u001B[39;00m e\n\u001B[0;32m    242\u001B[0m \u001B[38;5;28;01mif\u001B[39;00m \u001B[38;5;129;01mnot\u001B[39;00m \u001B[38;5;28mself\u001B[39m\u001B[38;5;241m.\u001B[39mdefault_metadata:\n",
      "File \u001B[1;32m~\\Documents\\GitHub\\Multilingual-Evaluation-of-Generative-AI\\.venv\\Lib\\site-packages\\google\\generativeai\\client.py:232\u001B[0m, in \u001B[0;36m_ClientManager.make_client\u001B[1;34m(self, name)\u001B[0m\n\u001B[0;32m    231\u001B[0m     \u001B[38;5;28;01mwith\u001B[39;00m patch_colab_gce_credentials():\n\u001B[1;32m--> 232\u001B[0m         client \u001B[38;5;241m=\u001B[39m \u001B[38;5;28;43mcls\u001B[39;49m\u001B[43m(\u001B[49m\u001B[38;5;241;43m*\u001B[39;49m\u001B[38;5;241;43m*\u001B[39;49m\u001B[38;5;28;43mself\u001B[39;49m\u001B[38;5;241;43m.\u001B[39;49m\u001B[43mclient_config\u001B[49m\u001B[43m)\u001B[49m\n\u001B[0;32m    233\u001B[0m \u001B[38;5;28;01mexcept\u001B[39;00m ga_exceptions\u001B[38;5;241m.\u001B[39mDefaultCredentialsError \u001B[38;5;28;01mas\u001B[39;00m e:\n",
      "File \u001B[1;32m~\\Documents\\GitHub\\Multilingual-Evaluation-of-Generative-AI\\.venv\\Lib\\site-packages\\google\\ai\\generativelanguage_v1beta\\services\\generative_service\\client.py:687\u001B[0m, in \u001B[0;36mGenerativeServiceClient.__init__\u001B[1;34m(self, credentials, transport, client_options, client_info)\u001B[0m\n\u001B[0;32m    686\u001B[0m \u001B[38;5;66;03m# initialize with the provided callable or the passed in class\u001B[39;00m\n\u001B[1;32m--> 687\u001B[0m \u001B[38;5;28mself\u001B[39m\u001B[38;5;241m.\u001B[39m_transport \u001B[38;5;241m=\u001B[39m \u001B[43mtransport_init\u001B[49m\u001B[43m(\u001B[49m\n\u001B[0;32m    688\u001B[0m \u001B[43m    \u001B[49m\u001B[43mcredentials\u001B[49m\u001B[38;5;241;43m=\u001B[39;49m\u001B[43mcredentials\u001B[49m\u001B[43m,\u001B[49m\n\u001B[0;32m    689\u001B[0m \u001B[43m    \u001B[49m\u001B[43mcredentials_file\u001B[49m\u001B[38;5;241;43m=\u001B[39;49m\u001B[38;5;28;43mself\u001B[39;49m\u001B[38;5;241;43m.\u001B[39;49m\u001B[43m_client_options\u001B[49m\u001B[38;5;241;43m.\u001B[39;49m\u001B[43mcredentials_file\u001B[49m\u001B[43m,\u001B[49m\n\u001B[0;32m    690\u001B[0m \u001B[43m    \u001B[49m\u001B[43mhost\u001B[49m\u001B[38;5;241;43m=\u001B[39;49m\u001B[38;5;28;43mself\u001B[39;49m\u001B[38;5;241;43m.\u001B[39;49m\u001B[43m_api_endpoint\u001B[49m\u001B[43m,\u001B[49m\n\u001B[0;32m    691\u001B[0m \u001B[43m    \u001B[49m\u001B[43mscopes\u001B[49m\u001B[38;5;241;43m=\u001B[39;49m\u001B[38;5;28;43mself\u001B[39;49m\u001B[38;5;241;43m.\u001B[39;49m\u001B[43m_client_options\u001B[49m\u001B[38;5;241;43m.\u001B[39;49m\u001B[43mscopes\u001B[49m\u001B[43m,\u001B[49m\n\u001B[0;32m    692\u001B[0m \u001B[43m    \u001B[49m\u001B[43mclient_cert_source_for_mtls\u001B[49m\u001B[38;5;241;43m=\u001B[39;49m\u001B[38;5;28;43mself\u001B[39;49m\u001B[38;5;241;43m.\u001B[39;49m\u001B[43m_client_cert_source\u001B[49m\u001B[43m,\u001B[49m\n\u001B[0;32m    693\u001B[0m \u001B[43m    \u001B[49m\u001B[43mquota_project_id\u001B[49m\u001B[38;5;241;43m=\u001B[39;49m\u001B[38;5;28;43mself\u001B[39;49m\u001B[38;5;241;43m.\u001B[39;49m\u001B[43m_client_options\u001B[49m\u001B[38;5;241;43m.\u001B[39;49m\u001B[43mquota_project_id\u001B[49m\u001B[43m,\u001B[49m\n\u001B[0;32m    694\u001B[0m \u001B[43m    \u001B[49m\u001B[43mclient_info\u001B[49m\u001B[38;5;241;43m=\u001B[39;49m\u001B[43mclient_info\u001B[49m\u001B[43m,\u001B[49m\n\u001B[0;32m    695\u001B[0m \u001B[43m    \u001B[49m\u001B[43malways_use_jwt_access\u001B[49m\u001B[38;5;241;43m=\u001B[39;49m\u001B[38;5;28;43;01mTrue\u001B[39;49;00m\u001B[43m,\u001B[49m\n\u001B[0;32m    696\u001B[0m \u001B[43m    \u001B[49m\u001B[43mapi_audience\u001B[49m\u001B[38;5;241;43m=\u001B[39;49m\u001B[38;5;28;43mself\u001B[39;49m\u001B[38;5;241;43m.\u001B[39;49m\u001B[43m_client_options\u001B[49m\u001B[38;5;241;43m.\u001B[39;49m\u001B[43mapi_audience\u001B[49m\u001B[43m,\u001B[49m\n\u001B[0;32m    697\u001B[0m \u001B[43m\u001B[49m\u001B[43m)\u001B[49m\n",
      "File \u001B[1;32m~\\Documents\\GitHub\\Multilingual-Evaluation-of-Generative-AI\\.venv\\Lib\\site-packages\\google\\ai\\generativelanguage_v1beta\\services\\generative_service\\transports\\grpc.py:154\u001B[0m, in \u001B[0;36mGenerativeServiceGrpcTransport.__init__\u001B[1;34m(self, host, credentials, credentials_file, scopes, channel, api_mtls_endpoint, client_cert_source, ssl_channel_credentials, client_cert_source_for_mtls, quota_project_id, client_info, always_use_jwt_access, api_audience)\u001B[0m\n\u001B[0;32m    153\u001B[0m \u001B[38;5;66;03m# The base transport sets the host, credentials and scopes\u001B[39;00m\n\u001B[1;32m--> 154\u001B[0m \u001B[38;5;28;43msuper\u001B[39;49m\u001B[43m(\u001B[49m\u001B[43m)\u001B[49m\u001B[38;5;241;43m.\u001B[39;49m\u001B[38;5;21;43m__init__\u001B[39;49m\u001B[43m(\u001B[49m\n\u001B[0;32m    155\u001B[0m \u001B[43m    \u001B[49m\u001B[43mhost\u001B[49m\u001B[38;5;241;43m=\u001B[39;49m\u001B[43mhost\u001B[49m\u001B[43m,\u001B[49m\n\u001B[0;32m    156\u001B[0m \u001B[43m    \u001B[49m\u001B[43mcredentials\u001B[49m\u001B[38;5;241;43m=\u001B[39;49m\u001B[43mcredentials\u001B[49m\u001B[43m,\u001B[49m\n\u001B[0;32m    157\u001B[0m \u001B[43m    \u001B[49m\u001B[43mcredentials_file\u001B[49m\u001B[38;5;241;43m=\u001B[39;49m\u001B[43mcredentials_file\u001B[49m\u001B[43m,\u001B[49m\n\u001B[0;32m    158\u001B[0m \u001B[43m    \u001B[49m\u001B[43mscopes\u001B[49m\u001B[38;5;241;43m=\u001B[39;49m\u001B[43mscopes\u001B[49m\u001B[43m,\u001B[49m\n\u001B[0;32m    159\u001B[0m \u001B[43m    \u001B[49m\u001B[43mquota_project_id\u001B[49m\u001B[38;5;241;43m=\u001B[39;49m\u001B[43mquota_project_id\u001B[49m\u001B[43m,\u001B[49m\n\u001B[0;32m    160\u001B[0m \u001B[43m    \u001B[49m\u001B[43mclient_info\u001B[49m\u001B[38;5;241;43m=\u001B[39;49m\u001B[43mclient_info\u001B[49m\u001B[43m,\u001B[49m\n\u001B[0;32m    161\u001B[0m \u001B[43m    \u001B[49m\u001B[43malways_use_jwt_access\u001B[49m\u001B[38;5;241;43m=\u001B[39;49m\u001B[43malways_use_jwt_access\u001B[49m\u001B[43m,\u001B[49m\n\u001B[0;32m    162\u001B[0m \u001B[43m    \u001B[49m\u001B[43mapi_audience\u001B[49m\u001B[38;5;241;43m=\u001B[39;49m\u001B[43mapi_audience\u001B[49m\u001B[43m,\u001B[49m\n\u001B[0;32m    163\u001B[0m \u001B[43m\u001B[49m\u001B[43m)\u001B[49m\n\u001B[0;32m    165\u001B[0m \u001B[38;5;28;01mif\u001B[39;00m \u001B[38;5;129;01mnot\u001B[39;00m \u001B[38;5;28mself\u001B[39m\u001B[38;5;241m.\u001B[39m_grpc_channel:\n\u001B[0;32m    166\u001B[0m     \u001B[38;5;66;03m# initialize with the provided callable or the default channel\u001B[39;00m\n",
      "File \u001B[1;32m~\\Documents\\GitHub\\Multilingual-Evaluation-of-Generative-AI\\.venv\\Lib\\site-packages\\google\\ai\\generativelanguage_v1beta\\services\\generative_service\\transports\\base.py:100\u001B[0m, in \u001B[0;36mGenerativeServiceTransport.__init__\u001B[1;34m(self, host, credentials, credentials_file, scopes, quota_project_id, client_info, always_use_jwt_access, api_audience, **kwargs)\u001B[0m\n\u001B[0;32m     99\u001B[0m \u001B[38;5;28;01melif\u001B[39;00m credentials \u001B[38;5;129;01mis\u001B[39;00m \u001B[38;5;28;01mNone\u001B[39;00m \u001B[38;5;129;01mand\u001B[39;00m \u001B[38;5;129;01mnot\u001B[39;00m \u001B[38;5;28mself\u001B[39m\u001B[38;5;241m.\u001B[39m_ignore_credentials:\n\u001B[1;32m--> 100\u001B[0m     credentials, _ \u001B[38;5;241m=\u001B[39m \u001B[43mgoogle\u001B[49m\u001B[38;5;241;43m.\u001B[39;49m\u001B[43mauth\u001B[49m\u001B[38;5;241;43m.\u001B[39;49m\u001B[43mdefault\u001B[49m\u001B[43m(\u001B[49m\n\u001B[0;32m    101\u001B[0m \u001B[43m        \u001B[49m\u001B[38;5;241;43m*\u001B[39;49m\u001B[38;5;241;43m*\u001B[39;49m\u001B[43mscopes_kwargs\u001B[49m\u001B[43m,\u001B[49m\u001B[43m \u001B[49m\u001B[43mquota_project_id\u001B[49m\u001B[38;5;241;43m=\u001B[39;49m\u001B[43mquota_project_id\u001B[49m\n\u001B[0;32m    102\u001B[0m \u001B[43m    \u001B[49m\u001B[43m)\u001B[49m\n\u001B[0;32m    103\u001B[0m     \u001B[38;5;66;03m# Don't apply audience if the credentials file passed from user.\u001B[39;00m\n",
      "File \u001B[1;32m~\\Documents\\GitHub\\Multilingual-Evaluation-of-Generative-AI\\.venv\\Lib\\site-packages\\google\\auth\\_default.py:693\u001B[0m, in \u001B[0;36mdefault\u001B[1;34m(scopes, request, quota_project_id, default_scopes)\u001B[0m\n\u001B[0;32m    691\u001B[0m         \u001B[38;5;28;01mreturn\u001B[39;00m credentials, effective_project_id\n\u001B[1;32m--> 693\u001B[0m \u001B[38;5;28;01mraise\u001B[39;00m exceptions\u001B[38;5;241m.\u001B[39mDefaultCredentialsError(_CLOUD_SDK_MISSING_CREDENTIALS)\n",
      "\u001B[1;31mDefaultCredentialsError\u001B[0m: \n  No API_KEY or ADC found. Please either:\n    - Set the `GOOGLE_API_KEY` environment variable.\n    - Manually pass the key with `genai.configure(api_key=my_api_key)`.\n    - Or set up Application Default Credentials, see https://ai.google.dev/gemini-api/docs/oauth for more information.",
      "\nDuring handling of the above exception, another exception occurred:\n",
      "\u001B[1;31mKeyboardInterrupt\u001B[0m                         Traceback (most recent call last)",
      "Cell \u001B[1;32mIn[5], line 5\u001B[0m\n\u001B[0;32m      2\u001B[0m preprocessed_data \u001B[38;5;241m=\u001B[39m preprocess_dataset(dataset, label_options)\n\u001B[0;32m      4\u001B[0m \u001B[38;5;66;03m# Run the evaluation on the entire preprocessed dataset using Gemini\u001B[39;00m\n\u001B[1;32m----> 5\u001B[0m true_labels, predicted_labels \u001B[38;5;241m=\u001B[39m \u001B[43mevaluate_gemini_on_dataset\u001B[49m\u001B[43m(\u001B[49m\u001B[43mpreprocessed_data\u001B[49m\u001B[43m,\u001B[49m\u001B[43m \u001B[49m\u001B[43mlabel_options\u001B[49m\u001B[43m)\u001B[49m\n",
      "Cell \u001B[1;32mIn[4], line 47\u001B[0m, in \u001B[0;36mevaluate_gemini_on_dataset\u001B[1;34m(dataset, label_options)\u001B[0m\n\u001B[0;32m     44\u001B[0m     \u001B[38;5;28;01mexcept\u001B[39;00m \u001B[38;5;167;01mException\u001B[39;00m \u001B[38;5;28;01mas\u001B[39;00m e:\n\u001B[0;32m     45\u001B[0m         \u001B[38;5;66;03m# Handle any request-related exceptions, like rate-limiting or network errors\u001B[39;00m\n\u001B[0;32m     46\u001B[0m         \u001B[38;5;28mprint\u001B[39m(\u001B[38;5;124mf\u001B[39m\u001B[38;5;124m\"\u001B[39m\u001B[38;5;124mError occurred: \u001B[39m\u001B[38;5;132;01m{\u001B[39;00me\u001B[38;5;132;01m}\u001B[39;00m\u001B[38;5;124m. Retrying after 60 seconds...\u001B[39m\u001B[38;5;124m\"\u001B[39m)\n\u001B[1;32m---> 47\u001B[0m         \u001B[43mtime\u001B[49m\u001B[38;5;241;43m.\u001B[39;49m\u001B[43msleep\u001B[49m\u001B[43m(\u001B[49m\u001B[38;5;241;43m60\u001B[39;49m\u001B[43m)\u001B[49m  \u001B[38;5;66;03m# Sleep for 60 seconds before retrying\u001B[39;00m\n\u001B[0;32m     48\u001B[0m         count \u001B[38;5;241m=\u001B[39m \u001B[38;5;241m0\u001B[39m  \u001B[38;5;66;03m# Reset the request count\u001B[39;00m\n\u001B[0;32m     50\u001B[0m \u001B[38;5;28;01mreturn\u001B[39;00m all_true_labels, all_predicted_labels\n",
      "\u001B[1;31mKeyboardInterrupt\u001B[0m: "
     ]
    }
   ],
   "source": [
    "# Preprocess the dataset\n",
    "preprocessed_data = preprocess_dataset(dataset, label_options)\n",
    "\n",
    "# Run the evaluation on the entire preprocessed dataset using Gemini\n",
    "true_labels, predicted_labels = evaluate_gemini_on_dataset(preprocessed_data, label_options)"
   ]
  },
  {
   "cell_type": "code",
   "execution_count": 35,
   "id": "4e683c2e82899466",
   "metadata": {
    "ExecuteTime": {
     "end_time": "2024-09-20T09:44:02.392410Z",
     "start_time": "2024-09-20T09:44:02.380076Z"
    }
   },
   "outputs": [
    {
     "name": "stdout",
     "output_type": "stream",
     "text": [
      "Precision: 0.21820728291316524\n",
      "Recall: 0.3194444444444444\n",
      "F1 Score: 0.20156518747850016\n"
     ]
    }
   ],
   "source": [
    "# Convert true and predicted labels to binary format using MultiLabelBinarizer\n",
    "mlb = MultiLabelBinarizer(classes=list(range(len(label_options))))\n",
    "\n",
    "# Binarize the true and predicted labels\n",
    "binary_true = mlb.fit_transform(true_labels)\n",
    "binary_pred = mlb.transform(predicted_labels)\n",
    "\n",
    "# Get indices of labels with non-zero true or predicted samples\n",
    "relevant_labels = np.where((binary_true.sum(axis=0) + binary_pred.sum(axis=0)) > 0)[0]\n",
    "\n",
    "# Filter binary_true and binary_pred to only include relevant labels\n",
    "filtered_binary_true = binary_true[:, relevant_labels]\n",
    "filtered_binary_pred = binary_pred[:, relevant_labels]\n",
    "\n",
    "# Calculate precision, recall, F1-score\n",
    "precision, recall, f1, _ = precision_recall_fscore_support(\n",
    "    filtered_binary_true, filtered_binary_pred, average='macro', zero_division=0\n",
    ")\n",
    "\n",
    "# Print the results\n",
    "print(f\"Precision: {precision}\")\n",
    "print(f\"Recall: {recall}\")\n",
    "print(f\"F1 Score: {f1}\")"
   ]
  },
  {
   "cell_type": "code",
   "execution_count": null,
   "id": "8bd01604f3b4738",
   "metadata": {},
   "outputs": [],
   "source": []
  }
 ],
 "metadata": {
  "kernelspec": {
   "display_name": "Python 3",
   "language": "python",
   "name": "python3"
  },
  "language_info": {
   "codemirror_mode": {
    "name": "ipython",
    "version": 2
   },
   "file_extension": ".py",
   "mimetype": "text/x-python",
   "name": "python",
   "nbconvert_exporter": "python",
   "pygments_lexer": "ipython2",
   "version": "2.7.6"
  }
 },
 "nbformat": 4,
 "nbformat_minor": 5
}
