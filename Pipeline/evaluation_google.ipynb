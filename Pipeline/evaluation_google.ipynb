{
 "cells": [
  {
   "cell_type": "code",
   "id": "e07eebabd86f5529",
   "metadata": {
    "ExecuteTime": {
     "end_time": "2024-09-23T13:30:13.478273Z",
     "start_time": "2024-09-23T13:30:11.363035Z"
    }
   },
   "source": [
    "import os\n",
    "import time\n",
    "\n",
    "from datasets import load_dataset\n",
    "from sklearn.metrics import precision_recall_fscore_support\n",
    "import google.generativeai as ggai\n",
    "from sklearn.preprocessing import MultiLabelBinarizer\n",
    "import numpy as np\n",
    "import matplotlib.pyplot as plt"
   ],
   "outputs": [],
   "execution_count": 13
  },
  {
   "cell_type": "code",
   "id": "4812dd6bac3dddd1",
   "metadata": {
    "ExecuteTime": {
     "end_time": "2024-09-20T16:55:21.358115Z",
     "start_time": "2024-09-20T16:55:19.151409Z"
    }
   },
   "source": [
    "# Load the Multi-EURLEX dataset\n",
    "dataset = load_dataset('multi_eurlex', 'all_languages', split='test')\n",
    "\n",
    "# Define label options (21 categories)\n",
    "label_options = [\n",
    "    \"POLITICS\", \"INTERNATIONAL RELATIONS\", \"EUROPEAN UNION\", \"LAW\", \"ECONOMICS\",\n",
    "    \"TRADE\", \"FINANCE\", \"SOCIAL QUESTIONS\", \"EDUCATION AND COMMUNICATIONS\", \"SCIENCE\",\n",
    "    \"BUSINESS AND COMPETITION\", \"EMPLOYMENT AND WORKING CONDITIONS\", \"TRANSPORT\",\n",
    "    \"ENVIRONMENT\", \"AGRICULTURE, FORESTRY AND FISHERIES\", \"AGRI-FOODSTUFFS\",\n",
    "    \"PRODUCTION, TECHNOLOGY AND RESEARCH\", \"ENERGY\", \"INDUSTRY\", \"GEOGRAPHY\",\n",
    "    \"INTERNATIONAL ORGANISATIONS\"\n",
    "]\n",
    "\n",
    "# Preprocess the dataset and map true labels to category numbers\n",
    "def preprocess_dataset(dataset, label_options):\n",
    "    preprocessed_data = []\n",
    "    for item in dataset:\n",
    "        text = item['text']['en']  # Extract English text\n",
    "        labels = item['labels']    # True label numbers\n",
    "        preprocessed_data.append({\"text\": text, \"labels\": labels})\n",
    "    # return preprocessed_data\n",
    "    return preprocessed_data[:1000]"
   ],
   "outputs": [],
   "execution_count": 16
  },
  {
   "cell_type": "code",
   "id": "1a324f8230b4a05f",
   "metadata": {
    "ExecuteTime": {
     "end_time": "2024-09-20T16:18:18.790093Z",
     "start_time": "2024-09-20T16:18:18.783992Z"
    }
   },
   "source": [
    "ggai.configure(api_key=os.getenv('GOOGLE_API_KEY'))\n",
    "model = ggai.GenerativeModel('gemini-1.5-flash')\n",
    "\n",
    "def classify_text_with_gemini(text, label_options):\n",
    "    prompt = f\"ONLY GIVE THE CATEGORIES IN YOUR ANSWER.Classify the following text into one or more of these categories: {', '.join(label_options)}. Text: {text}.\"\n",
    "\n",
    "    # Generate the text using the model\n",
    "    response = model.generate_content(prompt)\n",
    "\n",
    "    if not response:\n",
    "        print(\"Error: No response from the API.\")\n",
    "        return \"\"\n",
    "\n",
    "    return response.text"
   ],
   "outputs": [],
   "execution_count": 8
  },
  {
   "cell_type": "code",
   "id": "e2a56275ffc18dd2",
   "metadata": {
    "ExecuteTime": {
     "end_time": "2024-09-20T16:18:19.866927Z",
     "start_time": "2024-09-20T16:18:19.856692Z"
    }
   },
   "source": [
    "# Extract relevant labels from Gemini's output\n",
    "def extract_labels_from_generated_text(generated_text, label_options):\n",
    "    relevant_labels = []\n",
    "    for label in label_options:\n",
    "        if label.lower() in generated_text.lower():\n",
    "            relevant_labels.append(label)\n",
    "    return relevant_labels\n",
    "\n",
    "# Map label names back to indices\n",
    "def map_labels_to_indices(label_names, label_options):\n",
    "    label_indices = [label_options.index(label) for label in label_names if label in label_options]\n",
    "    return label_indices\n",
    "\n",
    "# Evaluate the Gemini model on the dataset\n",
    "def evaluate_gemini_on_dataset(dataset, label_options):\n",
    "    all_true_labels = []\n",
    "    all_predicted_labels = []\n",
    "    count = 0  # Track the number of requests\n",
    "\n",
    "    for entry in dataset:\n",
    "        text = entry['text']\n",
    "        true_labels = entry['labels']\n",
    "\n",
    "        try:\n",
    "            # Rate limiting: Ensure no more than 15 requests per minute\n",
    "            if count >= 15:\n",
    "                print(\"Reached request limit (15 per minute). Sleeping for 60 seconds...\")\n",
    "                time.sleep(60)  # Sleep for 60 seconds to comply with rate limits\n",
    "                count = 0  # Reset the request count after sleeping\n",
    "\n",
    "            # Get Gemini's generated labels\n",
    "            generated_text = classify_text_with_gemini(text, label_options)\n",
    "            predicted_label_names = extract_labels_from_generated_text(generated_text, label_options)\n",
    "            predicted_labels = map_labels_to_indices(predicted_label_names, label_options)\n",
    "\n",
    "            # Store true and predicted labels for comparison\n",
    "            all_true_labels.append(true_labels)\n",
    "            all_predicted_labels.append(predicted_labels)\n",
    "\n",
    "            # Update request count\n",
    "            count += 1\n",
    "\n",
    "        except Exception as e:\n",
    "            # Handle any request-related exceptions, like rate-limiting or network errors\n",
    "            print(f\"Error occurred: {e}. Retrying after 60 seconds...\")\n",
    "            time.sleep(60)  # Sleep for 60 seconds before retrying\n",
    "            count = 0  # Reset the request count\n",
    "\n",
    "    return all_true_labels, all_predicted_labels\n"
   ],
   "outputs": [],
   "execution_count": 9
  },
  {
   "cell_type": "code",
   "id": "7ba205220ce68e5b",
   "metadata": {
    "jupyter": {
     "is_executing": true
    },
    "ExecuteTime": {
     "start_time": "2024-09-20T16:55:34.137312Z"
    }
   },
   "source": [
    "# Preprocess the dataset\n",
    "preprocessed_data = preprocess_dataset(dataset, label_options)\n",
    "\n",
    "# Run the evaluation on the entire preprocessed dataset using Gemini\n",
    "true_labels, predicted_labels = evaluate_gemini_on_dataset(preprocessed_data, label_options)"
   ],
   "outputs": [
    {
     "name": "stdout",
     "output_type": "stream",
     "text": [
      "1000\n",
      "Reached request limit (15 per minute). Sleeping for 60 seconds...\n",
      "Reached request limit (15 per minute). Sleeping for 60 seconds...\n",
      "Reached request limit (15 per minute). Sleeping for 60 seconds...\n",
      "Reached request limit (15 per minute). Sleeping for 60 seconds...\n",
      "Reached request limit (15 per minute). Sleeping for 60 seconds...\n",
      "Reached request limit (15 per minute). Sleeping for 60 seconds...\n",
      "Reached request limit (15 per minute). Sleeping for 60 seconds...\n",
      "Reached request limit (15 per minute). Sleeping for 60 seconds...\n",
      "Reached request limit (15 per minute). Sleeping for 60 seconds...\n",
      "Reached request limit (15 per minute). Sleeping for 60 seconds...\n",
      "Reached request limit (15 per minute). Sleeping for 60 seconds...\n",
      "Reached request limit (15 per minute). Sleeping for 60 seconds...\n",
      "Reached request limit (15 per minute). Sleeping for 60 seconds...\n",
      "Reached request limit (15 per minute). Sleeping for 60 seconds...\n",
      "Reached request limit (15 per minute). Sleeping for 60 seconds...\n",
      "Reached request limit (15 per minute). Sleeping for 60 seconds...\n",
      "Reached request limit (15 per minute). Sleeping for 60 seconds...\n",
      "Reached request limit (15 per minute). Sleeping for 60 seconds...\n",
      "Reached request limit (15 per minute). Sleeping for 60 seconds...\n",
      "Reached request limit (15 per minute). Sleeping for 60 seconds...\n",
      "Reached request limit (15 per minute). Sleeping for 60 seconds...\n",
      "Reached request limit (15 per minute). Sleeping for 60 seconds...\n",
      "Reached request limit (15 per minute). Sleeping for 60 seconds...\n",
      "Reached request limit (15 per minute). Sleeping for 60 seconds...\n",
      "Reached request limit (15 per minute). Sleeping for 60 seconds...\n",
      "Reached request limit (15 per minute). Sleeping for 60 seconds...\n",
      "Reached request limit (15 per minute). Sleeping for 60 seconds...\n",
      "Reached request limit (15 per minute). Sleeping for 60 seconds...\n",
      "Reached request limit (15 per minute). Sleeping for 60 seconds...\n",
      "Reached request limit (15 per minute). Sleeping for 60 seconds...\n",
      "Reached request limit (15 per minute). Sleeping for 60 seconds...\n",
      "Reached request limit (15 per minute). Sleeping for 60 seconds...\n",
      "Reached request limit (15 per minute). Sleeping for 60 seconds...\n",
      "Reached request limit (15 per minute). Sleeping for 60 seconds...\n",
      "Reached request limit (15 per minute). Sleeping for 60 seconds...\n",
      "Reached request limit (15 per minute). Sleeping for 60 seconds...\n"
     ]
    }
   ],
   "execution_count": null
  },
  {
   "cell_type": "code",
   "id": "4e683c2e82899466",
   "metadata": {
    "ExecuteTime": {
     "end_time": "2024-09-23T13:28:37.723089Z",
     "start_time": "2024-09-23T13:28:37.707900Z"
    }
   },
   "source": [
    "# Convert true and predicted labels to binary format using MultiLabelBinarizer\n",
    "mlb = MultiLabelBinarizer(classes=list(range(len(label_options))))\n",
    "\n",
    "# Binarize the true and predicted labels\n",
    "binary_true = mlb.fit_transform(true_labels)\n",
    "binary_pred = mlb.transform(predicted_labels)\n",
    "\n",
    "# Get indices of labels with non-zero true or predicted samples\n",
    "relevant_labels = np.where((binary_true.sum(axis=0) + binary_pred.sum(axis=0)) > 0)[0]\n",
    "\n",
    "# Filter binary_true and binary_pred to only include relevant labels\n",
    "filtered_binary_true = binary_true[:, relevant_labels]\n",
    "filtered_binary_pred = binary_pred[:, relevant_labels]\n",
    "\n",
    "# Calculate precision, recall, F1-score\n",
    "precision, recall, f1, _ = precision_recall_fscore_support(\n",
    "    filtered_binary_true, filtered_binary_pred, average='macro', zero_division=0\n",
    ")\n",
    "\n",
    "# Print the results\n",
    "print(f\"Precision: {precision}\")\n",
    "print(f\"Recall: {recall}\")\n",
    "print(f\"F1 Score: {f1}\")"
   ],
   "outputs": [
    {
     "name": "stdout",
     "output_type": "stream",
     "text": [
      "Precision: 0.13978913572526372\n",
      "Recall: 0.23746341402276966\n",
      "F1 Score: 0.139990566339859\n"
     ]
    }
   ],
   "execution_count": 10
  },
  {
   "cell_type": "code",
   "id": "8bd01604f3b4738",
   "metadata": {
    "ExecuteTime": {
     "end_time": "2024-09-23T13:30:15.996848Z",
     "start_time": "2024-09-23T13:30:15.740914Z"
    }
   },
   "source": [
    "# Create a list for labels and scores\n",
    "labels = ['Precision', 'Recall', 'F1 Score']\n",
    "scores = [precision, recall, f1]\n",
    "\n",
    "# Create a bar chart\n",
    "plt.figure(figsize=(8, 5))\n",
    "plt.bar(labels, scores, color=['blue', 'orange', 'green'])\n",
    "\n",
    "# Add titles and labels\n",
    "plt.title('Precision, Recall, and F1 Score')\n",
    "plt.ylim(0, 1)  # F1 scores range from 0 to 1\n",
    "plt.ylabel('Score')\n",
    "\n",
    "# Annotate bars with their values\n",
    "for i, score in enumerate(scores):\n",
    "    plt.text(i, score + 0.02, f\"{score:.2f}\", ha='center')\n",
    "\n",
    "# Show the plot\n",
    "plt.show()"
   ],
   "outputs": [
    {
     "data": {
      "text/plain": [
       "<Figure size 800x500 with 1 Axes>"
      ],
      "image/png": "[encoded data removed]"
     },
     "metadata": {},
     "output_type": "display_data"
    }
   ],
   "execution_count": 14
  },
  {
   "metadata": {},
   "cell_type": "code",
   "outputs": [],
   "execution_count": null,
   "source": "",
   "id": "37997c40d7983331"
  }
 ],
 "metadata": {
  "kernelspec": {
   "display_name": "Python 3",
   "language": "python",
   "name": "python3"
  },
  "language_info": {
   "codemirror_mode": {
    "name": "ipython",
    "version": 2
   },
   "file_extension": ".py",
   "mimetype": "text/x-python",
   "name": "python",
   "nbconvert_exporter": "python",
   "pygments_lexer": "ipython2",
   "version": "2.7.6"
  }
 },
 "nbformat": 4,
 "nbformat_minor": 5
}
